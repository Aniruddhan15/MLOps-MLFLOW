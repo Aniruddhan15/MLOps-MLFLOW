{
 "cells": [
  {
   "cell_type": "markdown",
   "id": "93e861a0",
   "metadata": {},
   "source": [
    "# Importing necessary dependencies"
   ]
  },
  {
   "cell_type": "markdown",
   "id": "5e70bb45",
   "metadata": {},
   "source": []
  },
  {
   "cell_type": "code",
   "execution_count": 1,
   "id": "37692d07",
   "metadata": {},
   "outputs": [],
   "source": [
    "import mlflow\n",
    "import mlflow.sklearn\n",
    "import pandas as pd\n",
    "from sklearn.datasets import load_wine\n",
    "from sklearn.ensemble import GradientBoostingClassifier\n",
    "from sklearn.model_selection import train_test_split\n",
    "from sklearn.metrics import accuracy_score, confusion_matrix, classification_report\n",
    "import matplotlib.pyplot as pyplot\n",
    "import seaborn as sns"
   ]
  },
  {
   "cell_type": "markdown",
   "id": "1b4de033",
   "metadata": {},
   "source": [
    "# Model builidng Phase"
   ]
  },
  {
   "cell_type": "code",
   "execution_count": 2,
   "id": "c7cf96af",
   "metadata": {},
   "outputs": [],
   "source": [
    "wine = load_wine()\n",
    "X = wine.data\n",
    "y = wine.target\n",
    "\n",
    "# Split the dataset into training and testing sets\n",
    "X_train, X_test, y_train, y_test = train_test_split(X, y, test_size=0.2, random_state=42)\n",
    "\n",
    "# Define the parameters for the Gradient Boosting Classifier\n",
    "\n",
    "# Define the parameters for the Gradient Boosting Classifier\n",
    "\n",
    "\n",
    "learning_rate = 0.1\n",
    "max_depth = 3\n",
    "min_samples_split = 3\n",
    "min_samples_leaf = 2"
   ]
  },
  {
   "cell_type": "markdown",
   "id": "4ecbcd06",
   "metadata": {},
   "source": [
    "# MLFLOW Phase "
   ]
  },
  {
   "cell_type": "code",
   "execution_count": 8,
   "id": "3416869d",
   "metadata": {},
   "outputs": [],
   "source": [
    "mlflow.set_tracking_uri(\"http://127.0.0.1:5000\")"
   ]
  },
  {
   "cell_type": "code",
   "execution_count": 12,
   "id": "78cd1d34",
   "metadata": {},
   "outputs": [],
   "source": [
    "#mlflow.autolog()"
   ]
  },
  {
   "cell_type": "code",
   "execution_count": 10,
   "id": "ec778036",
   "metadata": {},
   "outputs": [],
   "source": [
    "from mlflow.models import infer_signature"
   ]
  },
  {
   "cell_type": "code",
   "execution_count": null,
   "id": "539e1ad6",
   "metadata": {},
   "outputs": [
    {
     "name": "stdout",
     "output_type": "stream",
     "text": [
      "0.9444444444444444\n",
      "🏃 View run traveling-croc-89 at: http://127.0.0.1:5000/#/experiments/0/runs/777a704ed66e490d871cd1e3bb3170af\n",
      "🧪 View experiment at: http://127.0.0.1:5000/#/experiments/0\n"
     ]
    }
   ],
   "source": [
    "with mlflow.start_run():\n",
    "    # Create and train the model\n",
    "    model = GradientBoostingClassifier(learning_rate=learning_rate,\n",
    "                                       max_depth=max_depth, min_samples_split=min_samples_split,\n",
    "                                       min_samples_leaf=min_samples_leaf)\n",
    "    model.fit(X_train, y_train)\n",
    "\n",
    "    # Make predictions\n",
    "    y_pred = model.predict(X_test)\n",
    "    \n",
    "    # Log metrics\n",
    "    accuracy = accuracy_score(y_test, y_pred)\n",
    "    mlflow.log_metric(\"accuracy\", accuracy)\n",
    "\n",
    "    # Log parameters\n",
    "    \n",
    "    mlflow.log_param(\"learning_rate\", learning_rate)\n",
    "    mlflow.log_param(\"max_depth\", max_depth)\n",
    "    mlflow.log_param(\"min_samples_split\", min_samples_split)\n",
    "    mlflow.log_param(\"min_samples_leaf\", min_samples_leaf)\n",
    "\n",
    "    \n",
    "    mlflow.set_tags({\"Author\": \"Aniruddhan\", \"Project\": \"Wine Quality Prediction\"})\n",
    "    \n",
    "    \n",
    "    print(accuracy)\n",
    "    \n",
    "    # Inference the model signature\n",
    "    model_signature = mlflow.models.infer_signature(X_train, model.predict(X_train))\n",
    "    \n",
    "    #Log the model\n",
    "    model_info = mlflow.sklearn.log_model(\n",
    "        model,\n",
    "        artifact_path=\"model\",\n",
    "        signature=model_signature,\n",
    "        input_example=X_train\n",
    "    )\n",
    "    "
   ]
  },
  {
   "cell_type": "code",
   "execution_count": null,
   "id": "4be55c0a",
   "metadata": {},
   "outputs": [],
   "source": []
  }
 ],
 "metadata": {
  "kernelspec": {
   "display_name": "Python 3",
   "language": "python",
   "name": "python3"
  },
  "language_info": {
   "codemirror_mode": {
    "name": "ipython",
    "version": 3
   },
   "file_extension": ".py",
   "mimetype": "text/x-python",
   "name": "python",
   "nbconvert_exporter": "python",
   "pygments_lexer": "ipython3",
   "version": "3.10.17"
  }
 },
 "nbformat": 4,
 "nbformat_minor": 5
}
