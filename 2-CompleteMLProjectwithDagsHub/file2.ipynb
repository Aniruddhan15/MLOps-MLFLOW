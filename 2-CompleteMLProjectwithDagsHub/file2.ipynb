{
 "cells": [
  {
   "cell_type": "markdown",
   "id": "93e861a0",
   "metadata": {},
   "source": [
    "# Importing necessary dependencies"
   ]
  },
  {
   "cell_type": "markdown",
   "id": "5e70bb45",
   "metadata": {},
   "source": []
  },
  {
   "cell_type": "code",
   "execution_count": 1,
   "id": "37692d07",
   "metadata": {},
   "outputs": [],
   "source": [
    "import mlflow\n",
    "import mlflow.sklearn\n",
    "import pandas as pd\n",
    "from sklearn.datasets import load_wine\n",
    "from sklearn.ensemble import GradientBoostingClassifier\n",
    "from sklearn.model_selection import train_test_split\n",
    "from sklearn.metrics import accuracy_score, confusion_matrix, classification_report\n",
    "import matplotlib.pyplot as pyplot\n",
    "import seaborn as sns"
   ]
  },
  {
   "cell_type": "markdown",
   "id": "1b4de033",
   "metadata": {},
   "source": [
    "# Model builidng Phase"
   ]
  },
  {
   "cell_type": "code",
   "execution_count": 2,
   "id": "c7cf96af",
   "metadata": {},
   "outputs": [],
   "source": [
    "wine = load_wine()\n",
    "X = wine.data\n",
    "y = wine.target\n",
    "\n",
    "# Split the dataset into training and testing sets\n",
    "X_train, X_test, y_train, y_test = train_test_split(X, y, test_size=0.2, random_state=42)\n",
    "\n",
    "# Define the parameters for the Gradient Boosting Classifier\n",
    "\n",
    "# Define the parameters for the Gradient Boosting Classifier\n",
    "\n",
    "\n",
    "learning_rate = 0.1\n",
    "max_depth = 3\n",
    "min_samples_split = 3\n",
    "min_samples_leaf = 2"
   ]
  },
  {
   "cell_type": "markdown",
   "id": "4ecbcd06",
   "metadata": {},
   "source": [
    "# MLFLOW Phase "
   ]
  },
  {
   "cell_type": "code",
   "execution_count": 9,
   "id": "070a9358",
   "metadata": {},
   "outputs": [],
   "source": [
    "import os\n",
    "from dotenv import load_dotenv\n",
    "\n",
    "load_dotenv()\n",
    "\n",
    "# Get the link\n",
    "mlflow_tracking_uri = os.getenv(\"MLFLOW_TRACKING_URI\")\n"
   ]
  },
  {
   "cell_type": "code",
   "execution_count": 7,
   "id": "64133433",
   "metadata": {},
   "outputs": [],
   "source": [
    "import dagshub"
   ]
  },
  {
   "cell_type": "code",
   "execution_count": 8,
   "id": "1ac0ffcd",
   "metadata": {},
   "outputs": [
    {
     "data": {
      "text/html": [
       "<pre style=\"white-space:pre;overflow-x:auto;line-height:normal;font-family:Menlo,'DejaVu Sans Mono',consolas,'Courier New',monospace\">                                       <span style=\"font-weight: bold\">❗❗❗ AUTHORIZATION REQUIRED ❗❗❗</span>                                        \n",
       "</pre>\n"
      ],
      "text/plain": [
       "                                       \u001b[1m❗❗❗ AUTHORIZATION REQUIRED ❗❗❗\u001b[0m                                        \n"
      ]
     },
     "metadata": {},
     "output_type": "display_data"
    },
    {
     "data": {
      "text/html": [
       "<pre style=\"white-space:pre;overflow-x:auto;line-height:normal;font-family:Menlo,'DejaVu Sans Mono',consolas,'Courier New',monospace\">d:\\MLOps-Series\\MLOps-MLFLOW\\mlfvenv\\lib\\site-packages\\rich\\live.py:231: UserWarning: install \"ipywidgets\" for \n",
       "Jupyter support\n",
       "  warnings.warn('install \"ipywidgets\" for Jupyter support')\n",
       "</pre>\n"
      ],
      "text/plain": [
       "d:\\MLOps-Series\\MLOps-MLFLOW\\mlfvenv\\lib\\site-packages\\rich\\live.py:231: UserWarning: install \"ipywidgets\" for \n",
       "Jupyter support\n",
       "  warnings.warn('install \"ipywidgets\" for Jupyter support')\n"
      ]
     },
     "metadata": {},
     "output_type": "display_data"
    },
    {
     "name": "stdout",
     "output_type": "stream",
     "text": [
      "\n",
      "\n",
      "Open the following link in your browser to authorize the client:\n",
      "https://dagshub.com/login/oauth/authorize?state=852c7f03-88b9-4a43-814d-7a987b635e1e&client_id=32b60ba385aa7cecf24046d8195a71c07dd345d9657977863b52e7748e0f0f28&middleman_request_id=ec5d64b69728cb2ac3a272c88a6192120f250a9e6b77dbac14e629d865e623a9\n",
      "\n",
      "\n"
     ]
    },
    {
     "name": "stderr",
     "output_type": "stream",
     "text": [
      "INFO:httpx:HTTP Request: POST https://dagshub.com/login/oauth/middleman \"HTTP/1.1 200 OK\"\n"
     ]
    },
    {
     "data": {
      "text/html": [
       "<pre style=\"white-space:pre;overflow-x:auto;line-height:normal;font-family:Menlo,'DejaVu Sans Mono',consolas,'Courier New',monospace\"></pre>\n"
      ],
      "text/plain": []
     },
     "metadata": {},
     "output_type": "display_data"
    },
    {
     "name": "stderr",
     "output_type": "stream",
     "text": [
      "INFO:httpx:HTTP Request: POST https://dagshub.com/login/oauth/access_token \"HTTP/1.1 200 OK\"\n",
      "INFO:httpx:HTTP Request: GET https://dagshub.com/api/v1/user \"HTTP/1.1 200 OK\"\n"
     ]
    },
    {
     "data": {
      "text/html": [
       "<pre style=\"white-space:pre;overflow-x:auto;line-height:normal;font-family:Menlo,'DejaVu Sans Mono',consolas,'Courier New',monospace\">Accessing as Aniruddhan15\n",
       "</pre>\n"
      ],
      "text/plain": [
       "Accessing as Aniruddhan15\n"
      ]
     },
     "metadata": {},
     "output_type": "display_data"
    },
    {
     "name": "stderr",
     "output_type": "stream",
     "text": [
      "INFO:dagshub:Accessing as Aniruddhan15\n",
      "INFO:httpx:HTTP Request: GET https://dagshub.com/api/v1/repos/Aniruddhan15/MLOps-MLFLOW \"HTTP/1.1 200 OK\"\n",
      "INFO:httpx:HTTP Request: GET https://dagshub.com/api/v1/user \"HTTP/1.1 200 OK\"\n"
     ]
    },
    {
     "data": {
      "text/html": [
       "<pre style=\"white-space:pre;overflow-x:auto;line-height:normal;font-family:Menlo,'DejaVu Sans Mono',consolas,'Courier New',monospace\">Initialized MLflow to track repo <span style=\"color: #008000; text-decoration-color: #008000\">\"Aniruddhan15/MLOps-MLFLOW\"</span>\n",
       "</pre>\n"
      ],
      "text/plain": [
       "Initialized MLflow to track repo \u001b[32m\"Aniruddhan15/MLOps-MLFLOW\"\u001b[0m\n"
      ]
     },
     "metadata": {},
     "output_type": "display_data"
    },
    {
     "name": "stderr",
     "output_type": "stream",
     "text": [
      "INFO:dagshub:Initialized MLflow to track repo \"Aniruddhan15/MLOps-MLFLOW\"\n"
     ]
    },
    {
     "data": {
      "text/html": [
       "<pre style=\"white-space:pre;overflow-x:auto;line-height:normal;font-family:Menlo,'DejaVu Sans Mono',consolas,'Courier New',monospace\">Repository Aniruddhan15/MLOps-MLFLOW initialized!\n",
       "</pre>\n"
      ],
      "text/plain": [
       "Repository Aniruddhan15/MLOps-MLFLOW initialized!\n"
      ]
     },
     "metadata": {},
     "output_type": "display_data"
    },
    {
     "name": "stderr",
     "output_type": "stream",
     "text": [
      "INFO:dagshub:Repository Aniruddhan15/MLOps-MLFLOW initialized!\n"
     ]
    }
   ],
   "source": [
    "dagshub.init(repo_owner='Aniruddhan15', repo_name='MLOps-MLFLOW', mlflow=True)"
   ]
  },
  {
   "cell_type": "code",
   "execution_count": 11,
   "id": "d66284f9",
   "metadata": {},
   "outputs": [],
   "source": [
    "mlflow.set_tracking_uri(mlflow_tracking_uri)"
   ]
  },
  {
   "cell_type": "code",
   "execution_count": null,
   "id": "3416869d",
   "metadata": {},
   "outputs": [],
   "source": [
    "#mlflow.set_tracking_uri(\"http://127.0.0.1:5000\")"
   ]
  },
  {
   "cell_type": "code",
   "execution_count": 12,
   "id": "ec778036",
   "metadata": {},
   "outputs": [],
   "source": [
    "from mlflow.models import infer_signature"
   ]
  },
  {
   "cell_type": "code",
   "execution_count": null,
   "id": "539e1ad6",
   "metadata": {},
   "outputs": [
    {
     "name": "stdout",
     "output_type": "stream",
     "text": [
      "0.9444444444444444\n",
      "🏃 View run gaudy-gnat-403 at: https://dagshub.com/Aniruddhan15/MLOps-MLFLOW.mlflow/#/experiments/0/runs/870c0ada72c34936a0a90aaaeb7b7fa8\n",
      "🧪 View experiment at: https://dagshub.com/Aniruddhan15/MLOps-MLFLOW.mlflow/#/experiments/0\n"
     ]
    }
   ],
   "source": [
    "with mlflow.start_run():\n",
    "    # Create and train the model\n",
    "    model = GradientBoostingClassifier(learning_rate=learning_rate,\n",
    "                                       max_depth=max_depth, min_samples_split=min_samples_split,\n",
    "                                       min_samples_leaf=min_samples_leaf)\n",
    "    model.fit(X_train, y_train)\n",
    "\n",
    "    # Make predictions\n",
    "    y_pred = model.predict(X_test)\n",
    "    \n",
    "    # Log metrics\n",
    "    accuracy = accuracy_score(y_test, y_pred)\n",
    "    mlflow.log_metric(\"accuracy\", accuracy)\n",
    "\n",
    "    # Log parameters\n",
    "    \n",
    "    mlflow.log_param(\"learning_rate\", learning_rate)\n",
    "    mlflow.log_param(\"max_depth\", max_depth)\n",
    "    mlflow.log_param(\"min_samples_split\", min_samples_split)\n",
    "    mlflow.log_param(\"min_samples_leaf\", min_samples_leaf)\n",
    "\n",
    "    \n",
    "    mlflow.set_tags({\"Author\": \"Aniruddhan\", \"Project\": \"Wine Quality Prediction\"})\n",
    "    \n",
    "    \n",
    "    print(accuracy)\n",
    "    \n",
    "    # Inference the model signature\n",
    "    model_signature = mlflow.models.infer_signature(X_train, model.predict(X_train))\n",
    "    \n",
    "    #Log the model\n",
    "    model_info = mlflow.sklearn.log_model(\n",
    "        model,\n",
    "        artifact_path=\"model\",\n",
    "        signature=model_signature,\n",
    "        input_example=X_train  # Name of the model in the MLflow Model Registry\n",
    "    )\n",
    "    "
   ]
  },
  {
   "cell_type": "code",
   "execution_count": null,
   "id": "4be55c0a",
   "metadata": {},
   "outputs": [],
   "source": []
  }
 ],
 "metadata": {
  "kernelspec": {
   "display_name": "Python 3",
   "language": "python",
   "name": "python3"
  },
  "language_info": {
   "codemirror_mode": {
    "name": "ipython",
    "version": 3
   },
   "file_extension": ".py",
   "mimetype": "text/x-python",
   "name": "python",
   "nbconvert_exporter": "python",
   "pygments_lexer": "ipython3",
   "version": "3.10.17"
  }
 },
 "nbformat": 4,
 "nbformat_minor": 5
}
